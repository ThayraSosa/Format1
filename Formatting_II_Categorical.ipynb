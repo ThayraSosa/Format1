{
  "cells": [
    {
      "cell_type": "markdown",
      "metadata": {
        "id": "view-in-github",
        "colab_type": "text"
      },
      "source": [
        "<a href=\"https://colab.research.google.com/github/ThayraSosa/Format1/blob/main/Formatting_II_Categorical.ipynb\" target=\"_parent\"><img src=\"https://colab.research.google.com/assets/colab-badge.svg\" alt=\"Open In Colab\"/></a>"
      ]
    },
    {
      "cell_type": "markdown",
      "id": "9f156965",
      "metadata": {
        "id": "9f156965"
      },
      "source": [
        "<center><img src=\"https://i.imgur.com/zRrFdsf.png\" width=\"700\"></center>\n",
        "\n",
        "# Data Formatting (categorical)\n",
        "\n",
        "\n",
        "In this formatting tutorial we will see the categorical case.\n",
        "\n",
        "\n",
        "Let's get [some data](https://en.wikipedia.org/wiki/List_of_freedom_indices):"
      ]
    },
    {
      "cell_type": "code",
      "execution_count": 1,
      "id": "1923bc8b",
      "metadata": {
        "colab": {
          "base_uri": "https://localhost:8080/"
        },
        "id": "1923bc8b",
        "outputId": "1b3af931-07ca-4954-eb22-ebdaa24d72c8"
      },
      "outputs": [
        {
          "output_type": "execute_result",
          "data": {
            "text/plain": [
              "2"
            ]
          },
          "metadata": {},
          "execution_count": 1
        }
      ],
      "source": [
        "import pandas as pd\n",
        "\n",
        "link='https://en.wikipedia.org/wiki/List_of_freedom_indices'\n",
        "freeDFs=pd.read_html(link,flavor='bs4',match='w',attrs={'class':\"wikitable\"})\n",
        "\n",
        "# how many tables?\n",
        "len(freeDFs)"
      ]
    },
    {
      "cell_type": "code",
      "execution_count": 2,
      "id": "ea63ec2f",
      "metadata": {
        "colab": {
          "base_uri": "https://localhost:8080/",
          "height": 392
        },
        "id": "ea63ec2f",
        "outputId": "e3587fec-2944-4394-b884-7f1c3cb1c5e6"
      },
      "outputs": [
        {
          "output_type": "execute_result",
          "data": {
            "text/plain": [
              "                       Index              Scale                     \\\n",
              "                       Index Unnamed: 1_level_1 Unnamed: 2_level_1   \n",
              "0       Freedom in the World               free               free   \n",
              "1  Index of Economic Freedom               free               free   \n",
              "2        Press Freedom Index     good situation     good situation   \n",
              "3            Democracy Index     full democracy     full democracy   \n",
              "\n",
              "                                                                      \\\n",
              "  Unnamed: 3_level_1      Unnamed: 4_level_1      Unnamed: 5_level_1   \n",
              "0               free                    free                    free   \n",
              "1               free             mostly free             mostly free   \n",
              "2     good situation  satisfactory situation  satisfactory situation   \n",
              "3     full democracy        flawed democracy        flawed democracy   \n",
              "\n",
              "                                                                     \\\n",
              "       Unnamed: 6_level_1   Unnamed: 7_level_1   Unnamed: 8_level_1   \n",
              "0             partly free          partly free          partly free   \n",
              "1             mostly free      moderately free      moderately free   \n",
              "2  satisfactory situation  noticeable problems  noticeable problems   \n",
              "3        flawed democracy        hybrid regime        hybrid regime   \n",
              "\n",
              "                                                                    \\\n",
              "    Unnamed: 9_level_1   Unnamed: 10_level_1   Unnamed: 11_level_1   \n",
              "0          partly free           partly free              not free   \n",
              "1      moderately free         mostly unfree         mostly unfree   \n",
              "2  noticeable problems   difficult situation   difficult situation   \n",
              "3        hybrid regime  authoritarian regime  authoritarian regime   \n",
              "\n",
              "                                                                         \\\n",
              "    Unnamed: 12_level_1     Unnamed: 13_level_1     Unnamed: 14_level_1   \n",
              "0              not free                not free                not free   \n",
              "1         mostly unfree               repressed               repressed   \n",
              "2   difficult situation  very serious situation  very serious situation   \n",
              "3  authoritarian regime    authoritarian regime    authoritarian regime   \n",
              "\n",
              "                           \n",
              "      Unnamed: 15_level_1  \n",
              "0                not free  \n",
              "1               repressed  \n",
              "2  very serious situation  \n",
              "3    authoritarian regime  "
            ],
            "text/html": [
              "\n",
              "  <div id=\"df-fed0ff8d-1e04-45e3-81ae-86ea7712ae29\">\n",
              "    <div class=\"colab-df-container\">\n",
              "      <div>\n",
              "<style scoped>\n",
              "    .dataframe tbody tr th:only-of-type {\n",
              "        vertical-align: middle;\n",
              "    }\n",
              "\n",
              "    .dataframe tbody tr th {\n",
              "        vertical-align: top;\n",
              "    }\n",
              "\n",
              "    .dataframe thead tr th {\n",
              "        text-align: left;\n",
              "    }\n",
              "</style>\n",
              "<table border=\"1\" class=\"dataframe\">\n",
              "  <thead>\n",
              "    <tr>\n",
              "      <th></th>\n",
              "      <th>Index</th>\n",
              "      <th colspan=\"15\" halign=\"left\">Scale</th>\n",
              "    </tr>\n",
              "    <tr>\n",
              "      <th></th>\n",
              "      <th>Index</th>\n",
              "      <th>Unnamed: 1_level_1</th>\n",
              "      <th>Unnamed: 2_level_1</th>\n",
              "      <th>Unnamed: 3_level_1</th>\n",
              "      <th>Unnamed: 4_level_1</th>\n",
              "      <th>Unnamed: 5_level_1</th>\n",
              "      <th>Unnamed: 6_level_1</th>\n",
              "      <th>Unnamed: 7_level_1</th>\n",
              "      <th>Unnamed: 8_level_1</th>\n",
              "      <th>Unnamed: 9_level_1</th>\n",
              "      <th>Unnamed: 10_level_1</th>\n",
              "      <th>Unnamed: 11_level_1</th>\n",
              "      <th>Unnamed: 12_level_1</th>\n",
              "      <th>Unnamed: 13_level_1</th>\n",
              "      <th>Unnamed: 14_level_1</th>\n",
              "      <th>Unnamed: 15_level_1</th>\n",
              "    </tr>\n",
              "  </thead>\n",
              "  <tbody>\n",
              "    <tr>\n",
              "      <th>0</th>\n",
              "      <td>Freedom in the World</td>\n",
              "      <td>free</td>\n",
              "      <td>free</td>\n",
              "      <td>free</td>\n",
              "      <td>free</td>\n",
              "      <td>free</td>\n",
              "      <td>partly free</td>\n",
              "      <td>partly free</td>\n",
              "      <td>partly free</td>\n",
              "      <td>partly free</td>\n",
              "      <td>partly free</td>\n",
              "      <td>not free</td>\n",
              "      <td>not free</td>\n",
              "      <td>not free</td>\n",
              "      <td>not free</td>\n",
              "      <td>not free</td>\n",
              "    </tr>\n",
              "    <tr>\n",
              "      <th>1</th>\n",
              "      <td>Index of Economic Freedom</td>\n",
              "      <td>free</td>\n",
              "      <td>free</td>\n",
              "      <td>free</td>\n",
              "      <td>mostly free</td>\n",
              "      <td>mostly free</td>\n",
              "      <td>mostly free</td>\n",
              "      <td>moderately free</td>\n",
              "      <td>moderately free</td>\n",
              "      <td>moderately free</td>\n",
              "      <td>mostly unfree</td>\n",
              "      <td>mostly unfree</td>\n",
              "      <td>mostly unfree</td>\n",
              "      <td>repressed</td>\n",
              "      <td>repressed</td>\n",
              "      <td>repressed</td>\n",
              "    </tr>\n",
              "    <tr>\n",
              "      <th>2</th>\n",
              "      <td>Press Freedom Index</td>\n",
              "      <td>good situation</td>\n",
              "      <td>good situation</td>\n",
              "      <td>good situation</td>\n",
              "      <td>satisfactory situation</td>\n",
              "      <td>satisfactory situation</td>\n",
              "      <td>satisfactory situation</td>\n",
              "      <td>noticeable problems</td>\n",
              "      <td>noticeable problems</td>\n",
              "      <td>noticeable problems</td>\n",
              "      <td>difficult situation</td>\n",
              "      <td>difficult situation</td>\n",
              "      <td>difficult situation</td>\n",
              "      <td>very serious situation</td>\n",
              "      <td>very serious situation</td>\n",
              "      <td>very serious situation</td>\n",
              "    </tr>\n",
              "    <tr>\n",
              "      <th>3</th>\n",
              "      <td>Democracy Index</td>\n",
              "      <td>full democracy</td>\n",
              "      <td>full democracy</td>\n",
              "      <td>full democracy</td>\n",
              "      <td>flawed democracy</td>\n",
              "      <td>flawed democracy</td>\n",
              "      <td>flawed democracy</td>\n",
              "      <td>hybrid regime</td>\n",
              "      <td>hybrid regime</td>\n",
              "      <td>hybrid regime</td>\n",
              "      <td>authoritarian regime</td>\n",
              "      <td>authoritarian regime</td>\n",
              "      <td>authoritarian regime</td>\n",
              "      <td>authoritarian regime</td>\n",
              "      <td>authoritarian regime</td>\n",
              "      <td>authoritarian regime</td>\n",
              "    </tr>\n",
              "  </tbody>\n",
              "</table>\n",
              "</div>\n",
              "      <button class=\"colab-df-convert\" onclick=\"convertToInteractive('df-fed0ff8d-1e04-45e3-81ae-86ea7712ae29')\"\n",
              "              title=\"Convert this dataframe to an interactive table.\"\n",
              "              style=\"display:none;\">\n",
              "        \n",
              "  <svg xmlns=\"http://www.w3.org/2000/svg\" height=\"24px\"viewBox=\"0 0 24 24\"\n",
              "       width=\"24px\">\n",
              "    <path d=\"M0 0h24v24H0V0z\" fill=\"none\"/>\n",
              "    <path d=\"M18.56 5.44l.94 2.06.94-2.06 2.06-.94-2.06-.94-.94-2.06-.94 2.06-2.06.94zm-11 1L8.5 8.5l.94-2.06 2.06-.94-2.06-.94L8.5 2.5l-.94 2.06-2.06.94zm10 10l.94 2.06.94-2.06 2.06-.94-2.06-.94-.94-2.06-.94 2.06-2.06.94z\"/><path d=\"M17.41 7.96l-1.37-1.37c-.4-.4-.92-.59-1.43-.59-.52 0-1.04.2-1.43.59L10.3 9.45l-7.72 7.72c-.78.78-.78 2.05 0 2.83L4 21.41c.39.39.9.59 1.41.59.51 0 1.02-.2 1.41-.59l7.78-7.78 2.81-2.81c.8-.78.8-2.07 0-2.86zM5.41 20L4 18.59l7.72-7.72 1.47 1.35L5.41 20z\"/>\n",
              "  </svg>\n",
              "      </button>\n",
              "      \n",
              "  <style>\n",
              "    .colab-df-container {\n",
              "      display:flex;\n",
              "      flex-wrap:wrap;\n",
              "      gap: 12px;\n",
              "    }\n",
              "\n",
              "    .colab-df-convert {\n",
              "      background-color: #E8F0FE;\n",
              "      border: none;\n",
              "      border-radius: 50%;\n",
              "      cursor: pointer;\n",
              "      display: none;\n",
              "      fill: #1967D2;\n",
              "      height: 32px;\n",
              "      padding: 0 0 0 0;\n",
              "      width: 32px;\n",
              "    }\n",
              "\n",
              "    .colab-df-convert:hover {\n",
              "      background-color: #E2EBFA;\n",
              "      box-shadow: 0px 1px 2px rgba(60, 64, 67, 0.3), 0px 1px 3px 1px rgba(60, 64, 67, 0.15);\n",
              "      fill: #174EA6;\n",
              "    }\n",
              "\n",
              "    [theme=dark] .colab-df-convert {\n",
              "      background-color: #3B4455;\n",
              "      fill: #D2E3FC;\n",
              "    }\n",
              "\n",
              "    [theme=dark] .colab-df-convert:hover {\n",
              "      background-color: #434B5C;\n",
              "      box-shadow: 0px 1px 3px 1px rgba(0, 0, 0, 0.15);\n",
              "      filter: drop-shadow(0px 1px 2px rgba(0, 0, 0, 0.3));\n",
              "      fill: #FFFFFF;\n",
              "    }\n",
              "  </style>\n",
              "\n",
              "      <script>\n",
              "        const buttonEl =\n",
              "          document.querySelector('#df-fed0ff8d-1e04-45e3-81ae-86ea7712ae29 button.colab-df-convert');\n",
              "        buttonEl.style.display =\n",
              "          google.colab.kernel.accessAllowed ? 'block' : 'none';\n",
              "\n",
              "        async function convertToInteractive(key) {\n",
              "          const element = document.querySelector('#df-fed0ff8d-1e04-45e3-81ae-86ea7712ae29');\n",
              "          const dataTable =\n",
              "            await google.colab.kernel.invokeFunction('convertToInteractive',\n",
              "                                                     [key], {});\n",
              "          if (!dataTable) return;\n",
              "\n",
              "          const docLinkHtml = 'Like what you see? Visit the ' +\n",
              "            '<a target=\"_blank\" href=https://colab.research.google.com/notebooks/data_table.ipynb>data table notebook</a>'\n",
              "            + ' to learn more about interactive tables.';\n",
              "          element.innerHTML = '';\n",
              "          dataTable['output_type'] = 'display_data';\n",
              "          await google.colab.output.renderOutput(dataTable, element);\n",
              "          const docLink = document.createElement('div');\n",
              "          docLink.innerHTML = docLinkHtml;\n",
              "          element.appendChild(docLink);\n",
              "        }\n",
              "      </script>\n",
              "    </div>\n",
              "  </div>\n",
              "  "
            ]
          },
          "metadata": {},
          "execution_count": 2
        }
      ],
      "source": [
        "#is this one?\n",
        "freeDFs[0]"
      ]
    },
    {
      "cell_type": "markdown",
      "id": "7b58c223",
      "metadata": {
        "id": "7b58c223"
      },
      "source": [
        "Then, you want the second table:"
      ]
    },
    {
      "cell_type": "code",
      "execution_count": 3,
      "id": "d9b41db7",
      "metadata": {
        "scrolled": true,
        "colab": {
          "base_uri": "https://localhost:8080/",
          "height": 372
        },
        "id": "d9b41db7",
        "outputId": "9c1ecdd9-d8cc-418d-f65b-ade9aca675dc"
      },
      "outputs": [
        {
          "output_type": "execute_result",
          "data": {
            "text/plain": [
              "       Country Freedom in the World 2022[13]  \\\n",
              "0  Afghanistan                      not free   \n",
              "1      Albania                   partly free   \n",
              "2      Algeria                      not free   \n",
              "3      Andorra                          free   \n",
              "4       Angola                      not free   \n",
              "\n",
              "  2022 Index of Economic Freedom[14] 2022 Press Freedom Index[3]  \\\n",
              "0                                NaN      very serious situation   \n",
              "1                    moderately free         noticeable problems   \n",
              "2                          repressed         difficult situation   \n",
              "3                                NaN         noticeable problems   \n",
              "4                      mostly unfree         noticeable problems   \n",
              "\n",
              "  2021 Democracy Index[9]  \n",
              "0    authoritarian regime  \n",
              "1        flawed democracy  \n",
              "2    authoritarian regime  \n",
              "3                     NaN  \n",
              "4    authoritarian regime  "
            ],
            "text/html": [
              "\n",
              "  <div id=\"df-cad99d67-5f6a-444b-81db-9bd74c055acb\">\n",
              "    <div class=\"colab-df-container\">\n",
              "      <div>\n",
              "<style scoped>\n",
              "    .dataframe tbody tr th:only-of-type {\n",
              "        vertical-align: middle;\n",
              "    }\n",
              "\n",
              "    .dataframe tbody tr th {\n",
              "        vertical-align: top;\n",
              "    }\n",
              "\n",
              "    .dataframe thead th {\n",
              "        text-align: right;\n",
              "    }\n",
              "</style>\n",
              "<table border=\"1\" class=\"dataframe\">\n",
              "  <thead>\n",
              "    <tr style=\"text-align: right;\">\n",
              "      <th></th>\n",
              "      <th>Country</th>\n",
              "      <th>Freedom in the World 2022[13]</th>\n",
              "      <th>2022 Index of Economic Freedom[14]</th>\n",
              "      <th>2022 Press Freedom Index[3]</th>\n",
              "      <th>2021 Democracy Index[9]</th>\n",
              "    </tr>\n",
              "  </thead>\n",
              "  <tbody>\n",
              "    <tr>\n",
              "      <th>0</th>\n",
              "      <td>Afghanistan</td>\n",
              "      <td>not free</td>\n",
              "      <td>NaN</td>\n",
              "      <td>very serious situation</td>\n",
              "      <td>authoritarian regime</td>\n",
              "    </tr>\n",
              "    <tr>\n",
              "      <th>1</th>\n",
              "      <td>Albania</td>\n",
              "      <td>partly free</td>\n",
              "      <td>moderately free</td>\n",
              "      <td>noticeable problems</td>\n",
              "      <td>flawed democracy</td>\n",
              "    </tr>\n",
              "    <tr>\n",
              "      <th>2</th>\n",
              "      <td>Algeria</td>\n",
              "      <td>not free</td>\n",
              "      <td>repressed</td>\n",
              "      <td>difficult situation</td>\n",
              "      <td>authoritarian regime</td>\n",
              "    </tr>\n",
              "    <tr>\n",
              "      <th>3</th>\n",
              "      <td>Andorra</td>\n",
              "      <td>free</td>\n",
              "      <td>NaN</td>\n",
              "      <td>noticeable problems</td>\n",
              "      <td>NaN</td>\n",
              "    </tr>\n",
              "    <tr>\n",
              "      <th>4</th>\n",
              "      <td>Angola</td>\n",
              "      <td>not free</td>\n",
              "      <td>mostly unfree</td>\n",
              "      <td>noticeable problems</td>\n",
              "      <td>authoritarian regime</td>\n",
              "    </tr>\n",
              "  </tbody>\n",
              "</table>\n",
              "</div>\n",
              "      <button class=\"colab-df-convert\" onclick=\"convertToInteractive('df-cad99d67-5f6a-444b-81db-9bd74c055acb')\"\n",
              "              title=\"Convert this dataframe to an interactive table.\"\n",
              "              style=\"display:none;\">\n",
              "        \n",
              "  <svg xmlns=\"http://www.w3.org/2000/svg\" height=\"24px\"viewBox=\"0 0 24 24\"\n",
              "       width=\"24px\">\n",
              "    <path d=\"M0 0h24v24H0V0z\" fill=\"none\"/>\n",
              "    <path d=\"M18.56 5.44l.94 2.06.94-2.06 2.06-.94-2.06-.94-.94-2.06-.94 2.06-2.06.94zm-11 1L8.5 8.5l.94-2.06 2.06-.94-2.06-.94L8.5 2.5l-.94 2.06-2.06.94zm10 10l.94 2.06.94-2.06 2.06-.94-2.06-.94-.94-2.06-.94 2.06-2.06.94z\"/><path d=\"M17.41 7.96l-1.37-1.37c-.4-.4-.92-.59-1.43-.59-.52 0-1.04.2-1.43.59L10.3 9.45l-7.72 7.72c-.78.78-.78 2.05 0 2.83L4 21.41c.39.39.9.59 1.41.59.51 0 1.02-.2 1.41-.59l7.78-7.78 2.81-2.81c.8-.78.8-2.07 0-2.86zM5.41 20L4 18.59l7.72-7.72 1.47 1.35L5.41 20z\"/>\n",
              "  </svg>\n",
              "      </button>\n",
              "      \n",
              "  <style>\n",
              "    .colab-df-container {\n",
              "      display:flex;\n",
              "      flex-wrap:wrap;\n",
              "      gap: 12px;\n",
              "    }\n",
              "\n",
              "    .colab-df-convert {\n",
              "      background-color: #E8F0FE;\n",
              "      border: none;\n",
              "      border-radius: 50%;\n",
              "      cursor: pointer;\n",
              "      display: none;\n",
              "      fill: #1967D2;\n",
              "      height: 32px;\n",
              "      padding: 0 0 0 0;\n",
              "      width: 32px;\n",
              "    }\n",
              "\n",
              "    .colab-df-convert:hover {\n",
              "      background-color: #E2EBFA;\n",
              "      box-shadow: 0px 1px 2px rgba(60, 64, 67, 0.3), 0px 1px 3px 1px rgba(60, 64, 67, 0.15);\n",
              "      fill: #174EA6;\n",
              "    }\n",
              "\n",
              "    [theme=dark] .colab-df-convert {\n",
              "      background-color: #3B4455;\n",
              "      fill: #D2E3FC;\n",
              "    }\n",
              "\n",
              "    [theme=dark] .colab-df-convert:hover {\n",
              "      background-color: #434B5C;\n",
              "      box-shadow: 0px 1px 3px 1px rgba(0, 0, 0, 0.15);\n",
              "      filter: drop-shadow(0px 1px 2px rgba(0, 0, 0, 0.3));\n",
              "      fill: #FFFFFF;\n",
              "    }\n",
              "  </style>\n",
              "\n",
              "      <script>\n",
              "        const buttonEl =\n",
              "          document.querySelector('#df-cad99d67-5f6a-444b-81db-9bd74c055acb button.colab-df-convert');\n",
              "        buttonEl.style.display =\n",
              "          google.colab.kernel.accessAllowed ? 'block' : 'none';\n",
              "\n",
              "        async function convertToInteractive(key) {\n",
              "          const element = document.querySelector('#df-cad99d67-5f6a-444b-81db-9bd74c055acb');\n",
              "          const dataTable =\n",
              "            await google.colab.kernel.invokeFunction('convertToInteractive',\n",
              "                                                     [key], {});\n",
              "          if (!dataTable) return;\n",
              "\n",
              "          const docLinkHtml = 'Like what you see? Visit the ' +\n",
              "            '<a target=\"_blank\" href=https://colab.research.google.com/notebooks/data_table.ipynb>data table notebook</a>'\n",
              "            + ' to learn more about interactive tables.';\n",
              "          element.innerHTML = '';\n",
              "          dataTable['output_type'] = 'display_data';\n",
              "          await google.colab.output.renderOutput(dataTable, element);\n",
              "          const docLink = document.createElement('div');\n",
              "          docLink.innerHTML = docLinkHtml;\n",
              "          element.appendChild(docLink);\n",
              "        }\n",
              "      </script>\n",
              "    </div>\n",
              "  </div>\n",
              "  "
            ]
          },
          "metadata": {},
          "execution_count": 3
        }
      ],
      "source": [
        "allFree=freeDFs[1]\n",
        "allFree.head()"
      ]
    },
    {
      "cell_type": "markdown",
      "id": "6442b690",
      "metadata": {
        "id": "6442b690"
      },
      "source": [
        "Cleaning column names:"
      ]
    },
    {
      "cell_type": "code",
      "execution_count": 4,
      "id": "0f614a66",
      "metadata": {
        "colab": {
          "base_uri": "https://localhost:8080/"
        },
        "id": "0f614a66",
        "outputId": "10c67ae5-9206-4afa-a056-917df9bd4b14"
      },
      "outputs": [
        {
          "output_type": "execute_result",
          "data": {
            "text/plain": [
              "Index(['Country', 'Freedom in the World 2022[13]',\n",
              "       '2022 Index of Economic Freedom[14]', '2022 Press Freedom Index[3]',\n",
              "       '2021 Democracy Index[9]'],\n",
              "      dtype='object')"
            ]
          },
          "metadata": {},
          "execution_count": 4
        }
      ],
      "source": [
        "allFree.columns"
      ]
    },
    {
      "cell_type": "markdown",
      "id": "a6f48526",
      "metadata": {
        "id": "a6f48526"
      },
      "source": [
        "This is a good alternative:"
      ]
    },
    {
      "cell_type": "code",
      "execution_count": 7,
      "id": "8baaa5dc",
      "metadata": {
        "colab": {
          "base_uri": "https://localhost:8080/"
        },
        "id": "8baaa5dc",
        "outputId": "359dc177-f27e-4ad0-b072-54b8cee86469"
      },
      "outputs": [
        {
          "output_type": "execute_result",
          "data": {
            "text/plain": [
              "Index(['Country', 'FreedomintheWorld', 'IndexofEconomicFreedom',\n",
              "       'PressFreedomIndex', 'DemocracyIndex'],\n",
              "      dtype='object')"
            ]
          },
          "metadata": {},
          "execution_count": 7
        }
      ],
      "source": [
        "allFree.columns.str.replace(r\"\\W|\\d\",\"\",regex=True)"
      ]
    },
    {
      "cell_type": "code",
      "execution_count": 8,
      "id": "83b2aa30",
      "metadata": {
        "id": "83b2aa30"
      },
      "outputs": [],
      "source": [
        "#then\n",
        "allFree.columns=allFree.columns.str.replace(r\"\\W|\\d\",\"\",regex=True)"
      ]
    },
    {
      "cell_type": "markdown",
      "id": "f35512e0",
      "metadata": {
        "id": "f35512e0"
      },
      "source": [
        "Let's clean all the leading/trailing space in every cell:"
      ]
    },
    {
      "cell_type": "code",
      "execution_count": 9,
      "id": "51ba6646",
      "metadata": {
        "id": "51ba6646"
      },
      "outputs": [],
      "source": [
        "# this code breaks if applied to numeric columns\n",
        "allFree=allFree.apply(lambda x: x.str.strip())"
      ]
    },
    {
      "cell_type": "markdown",
      "id": "a7ade228",
      "metadata": {
        "id": "a7ade228"
      },
      "source": [
        "Do we have unique country names?"
      ]
    },
    {
      "cell_type": "code",
      "execution_count": 10,
      "id": "62f8de26",
      "metadata": {
        "colab": {
          "base_uri": "https://localhost:8080/"
        },
        "id": "62f8de26",
        "outputId": "ac629a15-93e3-45c1-91d7-56534ed7de41"
      },
      "outputs": [
        {
          "output_type": "execute_result",
          "data": {
            "text/plain": [
              "True"
            ]
          },
          "metadata": {},
          "execution_count": 10
        }
      ],
      "source": [
        "len(allFree.Country)==len(pd.unique(allFree.Country))"
      ]
    },
    {
      "cell_type": "markdown",
      "id": "68cad36e",
      "metadata": {
        "id": "68cad36e"
      },
      "source": [
        "Let's start formatting:"
      ]
    },
    {
      "cell_type": "code",
      "execution_count": 11,
      "id": "e9c7a73d",
      "metadata": {
        "colab": {
          "base_uri": "https://localhost:8080/"
        },
        "id": "e9c7a73d",
        "outputId": "83ac0620-7981-4aa8-d4fb-6a36469c3fd0"
      },
      "outputs": [
        {
          "output_type": "stream",
          "name": "stdout",
          "text": [
            "<class 'pandas.core.frame.DataFrame'>\n",
            "RangeIndex: 197 entries, 0 to 196\n",
            "Data columns (total 5 columns):\n",
            " #   Column                  Non-Null Count  Dtype \n",
            "---  ------                  --------------  ----- \n",
            " 0   Country                 197 non-null    object\n",
            " 1   FreedomintheWorld       197 non-null    object\n",
            " 2   IndexofEconomicFreedom  177 non-null    object\n",
            " 3   PressFreedomIndex       184 non-null    object\n",
            " 4   DemocracyIndex          167 non-null    object\n",
            "dtypes: object(5)\n",
            "memory usage: 7.8+ KB\n"
          ]
        }
      ],
      "source": [
        "# check current data types:\n",
        "allFree.info()"
      ]
    },
    {
      "cell_type": "markdown",
      "id": "e720cf7c",
      "metadata": {
        "id": "e720cf7c"
      },
      "source": [
        "We see every column is just of the object type. Instead of frequency tables, check unique values:"
      ]
    },
    {
      "cell_type": "code",
      "execution_count": 12,
      "id": "e553e725",
      "metadata": {
        "colab": {
          "base_uri": "https://localhost:8080/"
        },
        "id": "e553e725",
        "outputId": "7d8fe0bb-6445-4400-b689-5a246962fcdd"
      },
      "outputs": [
        {
          "output_type": "execute_result",
          "data": {
            "text/plain": [
              "[['free', 'not free', 'partly free'],\n",
              " ['free', 'moderately free', 'mostly free', 'mostly unfree', 'repressed', nan],\n",
              " ['difficult situation',\n",
              "  'good situation',\n",
              "  'noticeable problems',\n",
              "  'satisfactory situation',\n",
              "  'very serious situation',\n",
              "  nan],\n",
              " ['authoritarian regime',\n",
              "  'flawed democracy',\n",
              "  'full democracy',\n",
              "  'hybrid regime',\n",
              "  nan]]"
            ]
          },
          "metadata": {},
          "execution_count": 12
        }
      ],
      "source": [
        "[list(allFree[c].sort_values().unique()) for c in allFree.columns[1:]]"
      ]
    },
    {
      "cell_type": "markdown",
      "id": "83d8759b",
      "metadata": {
        "id": "83d8759b"
      },
      "source": [
        "You wanted to check for mistakes like ['free', 'not free', 'partly free', 'Free']. The cells are clean."
      ]
    },
    {
      "cell_type": "markdown",
      "id": "432a81b5",
      "metadata": {
        "id": "432a81b5"
      },
      "source": [
        "Now, let's turn the values into **ordinal** categories. Remember that the worst, best and middle values should be comparable:"
      ]
    },
    {
      "cell_type": "code",
      "execution_count": 13,
      "id": "0ea93452",
      "metadata": {
        "id": "0ea93452"
      },
      "outputs": [],
      "source": [
        "mapper1 = {'not free': 1,'partly free': 3, 'free':5 }\n",
        "allFree.FreedomintheWorld.replace(mapper1,inplace=True)\n",
        "\n",
        "mapper2 = {'repressed':1, 'mostly unfree':2,'moderately free':3, 'mostly free':4, 'free':5}\n",
        "allFree.IndexofEconomicFreedom.replace(mapper2,inplace=True)\n",
        "\n",
        "\n",
        "mapper3 = {'very serious situation':1,'difficult situation':2, 'noticeable problems':3,\n",
        "           'satisfactory situation':4,'good situation':5}\n",
        "allFree.PressFreedomIndex.replace(mapper3,inplace=True)\n",
        "\n",
        "mapper4 = {'authoritarian regime':1, 'hybrid regime':2,'flawed democracy':3,'full democracy':5}\n",
        "allFree.DemocracyIndex.replace(mapper4,inplace=True)\n"
      ]
    },
    {
      "cell_type": "code",
      "execution_count": 14,
      "id": "742de9d3",
      "metadata": {
        "colab": {
          "base_uri": "https://localhost:8080/",
          "height": 488
        },
        "id": "742de9d3",
        "outputId": "e55f0324-df64-4007-d102-1ee716b50e6e"
      },
      "outputs": [
        {
          "output_type": "execute_result",
          "data": {
            "text/plain": [
              "         Country  FreedomintheWorld  IndexofEconomicFreedom  \\\n",
              "0    Afghanistan                  1                     NaN   \n",
              "1        Albania                  3                     3.0   \n",
              "2        Algeria                  1                     1.0   \n",
              "3        Andorra                  5                     NaN   \n",
              "4         Angola                  1                     2.0   \n",
              "..           ...                ...                     ...   \n",
              "192    Venezuela                  1                     1.0   \n",
              "193      Vietnam                  1                     3.0   \n",
              "194        Yemen                  1                     NaN   \n",
              "195       Zambia                  3                     1.0   \n",
              "196     Zimbabwe                  1                     1.0   \n",
              "\n",
              "     PressFreedomIndex  DemocracyIndex  \n",
              "0                  1.0             1.0  \n",
              "1                  3.0             3.0  \n",
              "2                  2.0             1.0  \n",
              "3                  3.0             NaN  \n",
              "4                  3.0             1.0  \n",
              "..                 ...             ...  \n",
              "192                1.0             1.0  \n",
              "193                1.0             1.0  \n",
              "194                1.0             1.0  \n",
              "195                3.0             2.0  \n",
              "196                2.0             1.0  \n",
              "\n",
              "[197 rows x 5 columns]"
            ],
            "text/html": [
              "\n",
              "  <div id=\"df-226ad0b0-a42e-435b-a1d3-1ec1815cef8b\">\n",
              "    <div class=\"colab-df-container\">\n",
              "      <div>\n",
              "<style scoped>\n",
              "    .dataframe tbody tr th:only-of-type {\n",
              "        vertical-align: middle;\n",
              "    }\n",
              "\n",
              "    .dataframe tbody tr th {\n",
              "        vertical-align: top;\n",
              "    }\n",
              "\n",
              "    .dataframe thead th {\n",
              "        text-align: right;\n",
              "    }\n",
              "</style>\n",
              "<table border=\"1\" class=\"dataframe\">\n",
              "  <thead>\n",
              "    <tr style=\"text-align: right;\">\n",
              "      <th></th>\n",
              "      <th>Country</th>\n",
              "      <th>FreedomintheWorld</th>\n",
              "      <th>IndexofEconomicFreedom</th>\n",
              "      <th>PressFreedomIndex</th>\n",
              "      <th>DemocracyIndex</th>\n",
              "    </tr>\n",
              "  </thead>\n",
              "  <tbody>\n",
              "    <tr>\n",
              "      <th>0</th>\n",
              "      <td>Afghanistan</td>\n",
              "      <td>1</td>\n",
              "      <td>NaN</td>\n",
              "      <td>1.0</td>\n",
              "      <td>1.0</td>\n",
              "    </tr>\n",
              "    <tr>\n",
              "      <th>1</th>\n",
              "      <td>Albania</td>\n",
              "      <td>3</td>\n",
              "      <td>3.0</td>\n",
              "      <td>3.0</td>\n",
              "      <td>3.0</td>\n",
              "    </tr>\n",
              "    <tr>\n",
              "      <th>2</th>\n",
              "      <td>Algeria</td>\n",
              "      <td>1</td>\n",
              "      <td>1.0</td>\n",
              "      <td>2.0</td>\n",
              "      <td>1.0</td>\n",
              "    </tr>\n",
              "    <tr>\n",
              "      <th>3</th>\n",
              "      <td>Andorra</td>\n",
              "      <td>5</td>\n",
              "      <td>NaN</td>\n",
              "      <td>3.0</td>\n",
              "      <td>NaN</td>\n",
              "    </tr>\n",
              "    <tr>\n",
              "      <th>4</th>\n",
              "      <td>Angola</td>\n",
              "      <td>1</td>\n",
              "      <td>2.0</td>\n",
              "      <td>3.0</td>\n",
              "      <td>1.0</td>\n",
              "    </tr>\n",
              "    <tr>\n",
              "      <th>...</th>\n",
              "      <td>...</td>\n",
              "      <td>...</td>\n",
              "      <td>...</td>\n",
              "      <td>...</td>\n",
              "      <td>...</td>\n",
              "    </tr>\n",
              "    <tr>\n",
              "      <th>192</th>\n",
              "      <td>Venezuela</td>\n",
              "      <td>1</td>\n",
              "      <td>1.0</td>\n",
              "      <td>1.0</td>\n",
              "      <td>1.0</td>\n",
              "    </tr>\n",
              "    <tr>\n",
              "      <th>193</th>\n",
              "      <td>Vietnam</td>\n",
              "      <td>1</td>\n",
              "      <td>3.0</td>\n",
              "      <td>1.0</td>\n",
              "      <td>1.0</td>\n",
              "    </tr>\n",
              "    <tr>\n",
              "      <th>194</th>\n",
              "      <td>Yemen</td>\n",
              "      <td>1</td>\n",
              "      <td>NaN</td>\n",
              "      <td>1.0</td>\n",
              "      <td>1.0</td>\n",
              "    </tr>\n",
              "    <tr>\n",
              "      <th>195</th>\n",
              "      <td>Zambia</td>\n",
              "      <td>3</td>\n",
              "      <td>1.0</td>\n",
              "      <td>3.0</td>\n",
              "      <td>2.0</td>\n",
              "    </tr>\n",
              "    <tr>\n",
              "      <th>196</th>\n",
              "      <td>Zimbabwe</td>\n",
              "      <td>1</td>\n",
              "      <td>1.0</td>\n",
              "      <td>2.0</td>\n",
              "      <td>1.0</td>\n",
              "    </tr>\n",
              "  </tbody>\n",
              "</table>\n",
              "<p>197 rows × 5 columns</p>\n",
              "</div>\n",
              "      <button class=\"colab-df-convert\" onclick=\"convertToInteractive('df-226ad0b0-a42e-435b-a1d3-1ec1815cef8b')\"\n",
              "              title=\"Convert this dataframe to an interactive table.\"\n",
              "              style=\"display:none;\">\n",
              "        \n",
              "  <svg xmlns=\"http://www.w3.org/2000/svg\" height=\"24px\"viewBox=\"0 0 24 24\"\n",
              "       width=\"24px\">\n",
              "    <path d=\"M0 0h24v24H0V0z\" fill=\"none\"/>\n",
              "    <path d=\"M18.56 5.44l.94 2.06.94-2.06 2.06-.94-2.06-.94-.94-2.06-.94 2.06-2.06.94zm-11 1L8.5 8.5l.94-2.06 2.06-.94-2.06-.94L8.5 2.5l-.94 2.06-2.06.94zm10 10l.94 2.06.94-2.06 2.06-.94-2.06-.94-.94-2.06-.94 2.06-2.06.94z\"/><path d=\"M17.41 7.96l-1.37-1.37c-.4-.4-.92-.59-1.43-.59-.52 0-1.04.2-1.43.59L10.3 9.45l-7.72 7.72c-.78.78-.78 2.05 0 2.83L4 21.41c.39.39.9.59 1.41.59.51 0 1.02-.2 1.41-.59l7.78-7.78 2.81-2.81c.8-.78.8-2.07 0-2.86zM5.41 20L4 18.59l7.72-7.72 1.47 1.35L5.41 20z\"/>\n",
              "  </svg>\n",
              "      </button>\n",
              "      \n",
              "  <style>\n",
              "    .colab-df-container {\n",
              "      display:flex;\n",
              "      flex-wrap:wrap;\n",
              "      gap: 12px;\n",
              "    }\n",
              "\n",
              "    .colab-df-convert {\n",
              "      background-color: #E8F0FE;\n",
              "      border: none;\n",
              "      border-radius: 50%;\n",
              "      cursor: pointer;\n",
              "      display: none;\n",
              "      fill: #1967D2;\n",
              "      height: 32px;\n",
              "      padding: 0 0 0 0;\n",
              "      width: 32px;\n",
              "    }\n",
              "\n",
              "    .colab-df-convert:hover {\n",
              "      background-color: #E2EBFA;\n",
              "      box-shadow: 0px 1px 2px rgba(60, 64, 67, 0.3), 0px 1px 3px 1px rgba(60, 64, 67, 0.15);\n",
              "      fill: #174EA6;\n",
              "    }\n",
              "\n",
              "    [theme=dark] .colab-df-convert {\n",
              "      background-color: #3B4455;\n",
              "      fill: #D2E3FC;\n",
              "    }\n",
              "\n",
              "    [theme=dark] .colab-df-convert:hover {\n",
              "      background-color: #434B5C;\n",
              "      box-shadow: 0px 1px 3px 1px rgba(0, 0, 0, 0.15);\n",
              "      filter: drop-shadow(0px 1px 2px rgba(0, 0, 0, 0.3));\n",
              "      fill: #FFFFFF;\n",
              "    }\n",
              "  </style>\n",
              "\n",
              "      <script>\n",
              "        const buttonEl =\n",
              "          document.querySelector('#df-226ad0b0-a42e-435b-a1d3-1ec1815cef8b button.colab-df-convert');\n",
              "        buttonEl.style.display =\n",
              "          google.colab.kernel.accessAllowed ? 'block' : 'none';\n",
              "\n",
              "        async function convertToInteractive(key) {\n",
              "          const element = document.querySelector('#df-226ad0b0-a42e-435b-a1d3-1ec1815cef8b');\n",
              "          const dataTable =\n",
              "            await google.colab.kernel.invokeFunction('convertToInteractive',\n",
              "                                                     [key], {});\n",
              "          if (!dataTable) return;\n",
              "\n",
              "          const docLinkHtml = 'Like what you see? Visit the ' +\n",
              "            '<a target=\"_blank\" href=https://colab.research.google.com/notebooks/data_table.ipynb>data table notebook</a>'\n",
              "            + ' to learn more about interactive tables.';\n",
              "          element.innerHTML = '';\n",
              "          dataTable['output_type'] = 'display_data';\n",
              "          await google.colab.output.renderOutput(dataTable, element);\n",
              "          const docLink = document.createElement('div');\n",
              "          docLink.innerHTML = docLinkHtml;\n",
              "          element.appendChild(docLink);\n",
              "        }\n",
              "      </script>\n",
              "    </div>\n",
              "  </div>\n",
              "  "
            ]
          },
          "metadata": {},
          "execution_count": 14
        }
      ],
      "source": [
        "allFree"
      ]
    },
    {
      "cell_type": "markdown",
      "id": "0dc96aaa",
      "metadata": {
        "id": "0dc96aaa"
      },
      "source": [
        "Let's explore:"
      ]
    },
    {
      "cell_type": "code",
      "execution_count": 15,
      "id": "720b58c4",
      "metadata": {
        "colab": {
          "base_uri": "https://localhost:8080/"
        },
        "id": "720b58c4",
        "outputId": "97360736-33e2-45b7-cc8d-a9d788378a37"
      },
      "outputs": [
        {
          "output_type": "stream",
          "name": "stdout",
          "text": [
            "<class 'pandas.core.frame.DataFrame'>\n",
            "RangeIndex: 197 entries, 0 to 196\n",
            "Data columns (total 5 columns):\n",
            " #   Column                  Non-Null Count  Dtype  \n",
            "---  ------                  --------------  -----  \n",
            " 0   Country                 197 non-null    object \n",
            " 1   FreedomintheWorld       197 non-null    int64  \n",
            " 2   IndexofEconomicFreedom  177 non-null    float64\n",
            " 3   PressFreedomIndex       184 non-null    float64\n",
            " 4   DemocracyIndex          167 non-null    float64\n",
            "dtypes: float64(3), int64(1), object(1)\n",
            "memory usage: 7.8+ KB\n"
          ]
        }
      ],
      "source": [
        "#check types:\n",
        "allFree.info()"
      ]
    },
    {
      "cell_type": "code",
      "execution_count": 16,
      "id": "0a14a21e",
      "metadata": {
        "id": "0a14a21e"
      },
      "outputs": [],
      "source": [
        "# what about\n",
        "allFree[allFree.columns[1:]]=allFree.iloc[:,1:].apply(lambda x: x.astype('Int64'))"
      ]
    },
    {
      "cell_type": "code",
      "execution_count": 17,
      "id": "4828ffc8",
      "metadata": {
        "colab": {
          "base_uri": "https://localhost:8080/"
        },
        "id": "4828ffc8",
        "outputId": "aababf06-a83f-4c0a-c4f0-28a031f1dbca"
      },
      "outputs": [
        {
          "output_type": "stream",
          "name": "stdout",
          "text": [
            "<class 'pandas.core.frame.DataFrame'>\n",
            "RangeIndex: 197 entries, 0 to 196\n",
            "Data columns (total 5 columns):\n",
            " #   Column                  Non-Null Count  Dtype \n",
            "---  ------                  --------------  ----- \n",
            " 0   Country                 197 non-null    object\n",
            " 1   FreedomintheWorld       197 non-null    Int64 \n",
            " 2   IndexofEconomicFreedom  177 non-null    Int64 \n",
            " 3   PressFreedomIndex       184 non-null    Int64 \n",
            " 4   DemocracyIndex          167 non-null    Int64 \n",
            "dtypes: Int64(4), object(1)\n",
            "memory usage: 8.6+ KB\n"
          ]
        }
      ],
      "source": [
        "#then\n",
        "allFree.info()"
      ]
    },
    {
      "cell_type": "markdown",
      "id": "89342f19",
      "metadata": {
        "id": "89342f19"
      },
      "source": [
        "However, these are not yet ordinal. Let's do it:"
      ]
    },
    {
      "cell_type": "code",
      "execution_count": 18,
      "id": "e21f045b",
      "metadata": {
        "colab": {
          "base_uri": "https://localhost:8080/"
        },
        "id": "e21f045b",
        "outputId": "254d7fb2-749a-41c6-81f2-c4f8972f3f27"
      },
      "outputs": [
        {
          "output_type": "stream",
          "name": "stdout",
          "text": [
            "<class 'pandas.core.frame.DataFrame'>\n",
            "RangeIndex: 197 entries, 0 to 196\n",
            "Data columns (total 4 columns):\n",
            " #   Column                  Non-Null Count  Dtype   \n",
            "---  ------                  --------------  -----   \n",
            " 0   FreedomintheWorld       197 non-null    category\n",
            " 1   IndexofEconomicFreedom  177 non-null    category\n",
            " 2   PressFreedomIndex       184 non-null    category\n",
            " 3   DemocracyIndex          167 non-null    category\n",
            "dtypes: category(4)\n",
            "memory usage: 1.7 KB\n"
          ]
        }
      ],
      "source": [
        "from pandas.api.types import CategoricalDtype\n",
        "\n",
        "order = CategoricalDtype(categories=[1,2,3,4,5], ordered=True)\n",
        "allFree.iloc[:,1:].apply(lambda x:x.astype(order)).info()"
      ]
    },
    {
      "cell_type": "code",
      "execution_count": 19,
      "id": "71af28f8",
      "metadata": {
        "colab": {
          "base_uri": "https://localhost:8080/"
        },
        "id": "71af28f8",
        "outputId": "4636ffb2-ce19-481a-8397-1c5fc8c8e799"
      },
      "outputs": [
        {
          "output_type": "execute_result",
          "data": {
            "text/plain": [
              "Index(['FreedomintheWorld_ord', 'IndexofEconomicFreedom_ord',\n",
              "       'PressFreedomIndex_ord', 'DemocracyIndex_ord'],\n",
              "      dtype='object')"
            ]
          },
          "metadata": {},
          "execution_count": 19
        }
      ],
      "source": [
        "# create some new names:\n",
        "newNames=allFree.columns[1:]+'_ord'\n",
        "#see\n",
        "newNames"
      ]
    },
    {
      "cell_type": "code",
      "execution_count": 20,
      "id": "80aff81e",
      "metadata": {
        "id": "80aff81e"
      },
      "outputs": [],
      "source": [
        "allFree[newNames]=allFree.iloc[:,1:].apply(lambda x:x.astype(order))"
      ]
    },
    {
      "cell_type": "code",
      "execution_count": 21,
      "id": "82046fb5",
      "metadata": {
        "colab": {
          "base_uri": "https://localhost:8080/"
        },
        "id": "82046fb5",
        "outputId": "57dae51a-4355-4b2d-9fea-8fa58d13042e"
      },
      "outputs": [
        {
          "output_type": "stream",
          "name": "stdout",
          "text": [
            "<class 'pandas.core.frame.DataFrame'>\n",
            "RangeIndex: 197 entries, 0 to 196\n",
            "Data columns (total 9 columns):\n",
            " #   Column                      Non-Null Count  Dtype   \n",
            "---  ------                      --------------  -----   \n",
            " 0   Country                     197 non-null    object  \n",
            " 1   FreedomintheWorld           197 non-null    Int64   \n",
            " 2   IndexofEconomicFreedom      177 non-null    Int64   \n",
            " 3   PressFreedomIndex           184 non-null    Int64   \n",
            " 4   DemocracyIndex              167 non-null    Int64   \n",
            " 5   FreedomintheWorld_ord       197 non-null    category\n",
            " 6   IndexofEconomicFreedom_ord  177 non-null    category\n",
            " 7   PressFreedomIndex_ord       184 non-null    category\n",
            " 8   DemocracyIndex_ord          167 non-null    category\n",
            "dtypes: Int64(4), category(4), object(1)\n",
            "memory usage: 10.2+ KB\n"
          ]
        }
      ],
      "source": [
        "allFree.info()"
      ]
    },
    {
      "cell_type": "code",
      "execution_count": 22,
      "id": "df5a5224",
      "metadata": {
        "colab": {
          "base_uri": "https://localhost:8080/"
        },
        "id": "df5a5224",
        "outputId": "ab57a7f7-5208-4ca2-f1e1-13de1c9b1d49"
      },
      "outputs": [
        {
          "output_type": "execute_result",
          "data": {
            "text/plain": [
              "0      NaN\n",
              "1        3\n",
              "2        1\n",
              "3      NaN\n",
              "4        2\n",
              "      ... \n",
              "192      1\n",
              "193      3\n",
              "194    NaN\n",
              "195      1\n",
              "196      1\n",
              "Name: IndexofEconomicFreedom_ord, Length: 197, dtype: category\n",
              "Categories (5, int64): [1 < 2 < 3 < 4 < 5]"
            ]
          },
          "metadata": {},
          "execution_count": 22
        }
      ],
      "source": [
        "allFree.IndexofEconomicFreedom_ord"
      ]
    },
    {
      "cell_type": "markdown",
      "id": "7bddfe25",
      "metadata": {
        "id": "7bddfe25"
      },
      "source": [
        "You may want to rename them:"
      ]
    },
    {
      "cell_type": "code",
      "execution_count": 23,
      "id": "98024763",
      "metadata": {
        "colab": {
          "base_uri": "https://localhost:8080/",
          "height": 488
        },
        "id": "98024763",
        "outputId": "f66fdf53-2fc6-482a-f9f6-85e37dee1045"
      },
      "outputs": [
        {
          "output_type": "execute_result",
          "data": {
            "text/plain": [
              "    FreedomintheWorld_ord IndexofEconomicFreedom_ord PressFreedomIndex_ord  \\\n",
              "0                 veryLow                        NaN               veryLow   \n",
              "1                  medium                     medium                medium   \n",
              "2                 veryLow                    veryLow                   low   \n",
              "3                veryGood                        NaN                medium   \n",
              "4                 veryLow                        low                medium   \n",
              "..                    ...                        ...                   ...   \n",
              "192               veryLow                    veryLow               veryLow   \n",
              "193               veryLow                     medium               veryLow   \n",
              "194               veryLow                        NaN               veryLow   \n",
              "195                medium                    veryLow                medium   \n",
              "196               veryLow                    veryLow                   low   \n",
              "\n",
              "    DemocracyIndex_ord  \n",
              "0              veryLow  \n",
              "1               medium  \n",
              "2              veryLow  \n",
              "3                  NaN  \n",
              "4              veryLow  \n",
              "..                 ...  \n",
              "192            veryLow  \n",
              "193            veryLow  \n",
              "194            veryLow  \n",
              "195                low  \n",
              "196            veryLow  \n",
              "\n",
              "[197 rows x 4 columns]"
            ],
            "text/html": [
              "\n",
              "  <div id=\"df-d36d73b6-e693-437b-a249-1fa529fbb567\">\n",
              "    <div class=\"colab-df-container\">\n",
              "      <div>\n",
              "<style scoped>\n",
              "    .dataframe tbody tr th:only-of-type {\n",
              "        vertical-align: middle;\n",
              "    }\n",
              "\n",
              "    .dataframe tbody tr th {\n",
              "        vertical-align: top;\n",
              "    }\n",
              "\n",
              "    .dataframe thead th {\n",
              "        text-align: right;\n",
              "    }\n",
              "</style>\n",
              "<table border=\"1\" class=\"dataframe\">\n",
              "  <thead>\n",
              "    <tr style=\"text-align: right;\">\n",
              "      <th></th>\n",
              "      <th>FreedomintheWorld_ord</th>\n",
              "      <th>IndexofEconomicFreedom_ord</th>\n",
              "      <th>PressFreedomIndex_ord</th>\n",
              "      <th>DemocracyIndex_ord</th>\n",
              "    </tr>\n",
              "  </thead>\n",
              "  <tbody>\n",
              "    <tr>\n",
              "      <th>0</th>\n",
              "      <td>veryLow</td>\n",
              "      <td>NaN</td>\n",
              "      <td>veryLow</td>\n",
              "      <td>veryLow</td>\n",
              "    </tr>\n",
              "    <tr>\n",
              "      <th>1</th>\n",
              "      <td>medium</td>\n",
              "      <td>medium</td>\n",
              "      <td>medium</td>\n",
              "      <td>medium</td>\n",
              "    </tr>\n",
              "    <tr>\n",
              "      <th>2</th>\n",
              "      <td>veryLow</td>\n",
              "      <td>veryLow</td>\n",
              "      <td>low</td>\n",
              "      <td>veryLow</td>\n",
              "    </tr>\n",
              "    <tr>\n",
              "      <th>3</th>\n",
              "      <td>veryGood</td>\n",
              "      <td>NaN</td>\n",
              "      <td>medium</td>\n",
              "      <td>NaN</td>\n",
              "    </tr>\n",
              "    <tr>\n",
              "      <th>4</th>\n",
              "      <td>veryLow</td>\n",
              "      <td>low</td>\n",
              "      <td>medium</td>\n",
              "      <td>veryLow</td>\n",
              "    </tr>\n",
              "    <tr>\n",
              "      <th>...</th>\n",
              "      <td>...</td>\n",
              "      <td>...</td>\n",
              "      <td>...</td>\n",
              "      <td>...</td>\n",
              "    </tr>\n",
              "    <tr>\n",
              "      <th>192</th>\n",
              "      <td>veryLow</td>\n",
              "      <td>veryLow</td>\n",
              "      <td>veryLow</td>\n",
              "      <td>veryLow</td>\n",
              "    </tr>\n",
              "    <tr>\n",
              "      <th>193</th>\n",
              "      <td>veryLow</td>\n",
              "      <td>medium</td>\n",
              "      <td>veryLow</td>\n",
              "      <td>veryLow</td>\n",
              "    </tr>\n",
              "    <tr>\n",
              "      <th>194</th>\n",
              "      <td>veryLow</td>\n",
              "      <td>NaN</td>\n",
              "      <td>veryLow</td>\n",
              "      <td>veryLow</td>\n",
              "    </tr>\n",
              "    <tr>\n",
              "      <th>195</th>\n",
              "      <td>medium</td>\n",
              "      <td>veryLow</td>\n",
              "      <td>medium</td>\n",
              "      <td>low</td>\n",
              "    </tr>\n",
              "    <tr>\n",
              "      <th>196</th>\n",
              "      <td>veryLow</td>\n",
              "      <td>veryLow</td>\n",
              "      <td>low</td>\n",
              "      <td>veryLow</td>\n",
              "    </tr>\n",
              "  </tbody>\n",
              "</table>\n",
              "<p>197 rows × 4 columns</p>\n",
              "</div>\n",
              "      <button class=\"colab-df-convert\" onclick=\"convertToInteractive('df-d36d73b6-e693-437b-a249-1fa529fbb567')\"\n",
              "              title=\"Convert this dataframe to an interactive table.\"\n",
              "              style=\"display:none;\">\n",
              "        \n",
              "  <svg xmlns=\"http://www.w3.org/2000/svg\" height=\"24px\"viewBox=\"0 0 24 24\"\n",
              "       width=\"24px\">\n",
              "    <path d=\"M0 0h24v24H0V0z\" fill=\"none\"/>\n",
              "    <path d=\"M18.56 5.44l.94 2.06.94-2.06 2.06-.94-2.06-.94-.94-2.06-.94 2.06-2.06.94zm-11 1L8.5 8.5l.94-2.06 2.06-.94-2.06-.94L8.5 2.5l-.94 2.06-2.06.94zm10 10l.94 2.06.94-2.06 2.06-.94-2.06-.94-.94-2.06-.94 2.06-2.06.94z\"/><path d=\"M17.41 7.96l-1.37-1.37c-.4-.4-.92-.59-1.43-.59-.52 0-1.04.2-1.43.59L10.3 9.45l-7.72 7.72c-.78.78-.78 2.05 0 2.83L4 21.41c.39.39.9.59 1.41.59.51 0 1.02-.2 1.41-.59l7.78-7.78 2.81-2.81c.8-.78.8-2.07 0-2.86zM5.41 20L4 18.59l7.72-7.72 1.47 1.35L5.41 20z\"/>\n",
              "  </svg>\n",
              "      </button>\n",
              "      \n",
              "  <style>\n",
              "    .colab-df-container {\n",
              "      display:flex;\n",
              "      flex-wrap:wrap;\n",
              "      gap: 12px;\n",
              "    }\n",
              "\n",
              "    .colab-df-convert {\n",
              "      background-color: #E8F0FE;\n",
              "      border: none;\n",
              "      border-radius: 50%;\n",
              "      cursor: pointer;\n",
              "      display: none;\n",
              "      fill: #1967D2;\n",
              "      height: 32px;\n",
              "      padding: 0 0 0 0;\n",
              "      width: 32px;\n",
              "    }\n",
              "\n",
              "    .colab-df-convert:hover {\n",
              "      background-color: #E2EBFA;\n",
              "      box-shadow: 0px 1px 2px rgba(60, 64, 67, 0.3), 0px 1px 3px 1px rgba(60, 64, 67, 0.15);\n",
              "      fill: #174EA6;\n",
              "    }\n",
              "\n",
              "    [theme=dark] .colab-df-convert {\n",
              "      background-color: #3B4455;\n",
              "      fill: #D2E3FC;\n",
              "    }\n",
              "\n",
              "    [theme=dark] .colab-df-convert:hover {\n",
              "      background-color: #434B5C;\n",
              "      box-shadow: 0px 1px 3px 1px rgba(0, 0, 0, 0.15);\n",
              "      filter: drop-shadow(0px 1px 2px rgba(0, 0, 0, 0.3));\n",
              "      fill: #FFFFFF;\n",
              "    }\n",
              "  </style>\n",
              "\n",
              "      <script>\n",
              "        const buttonEl =\n",
              "          document.querySelector('#df-d36d73b6-e693-437b-a249-1fa529fbb567 button.colab-df-convert');\n",
              "        buttonEl.style.display =\n",
              "          google.colab.kernel.accessAllowed ? 'block' : 'none';\n",
              "\n",
              "        async function convertToInteractive(key) {\n",
              "          const element = document.querySelector('#df-d36d73b6-e693-437b-a249-1fa529fbb567');\n",
              "          const dataTable =\n",
              "            await google.colab.kernel.invokeFunction('convertToInteractive',\n",
              "                                                     [key], {});\n",
              "          if (!dataTable) return;\n",
              "\n",
              "          const docLinkHtml = 'Like what you see? Visit the ' +\n",
              "            '<a target=\"_blank\" href=https://colab.research.google.com/notebooks/data_table.ipynb>data table notebook</a>'\n",
              "            + ' to learn more about interactive tables.';\n",
              "          element.innerHTML = '';\n",
              "          dataTable['output_type'] = 'display_data';\n",
              "          await google.colab.output.renderOutput(dataTable, element);\n",
              "          const docLink = document.createElement('div');\n",
              "          docLink.innerHTML = docLinkHtml;\n",
              "          element.appendChild(docLink);\n",
              "        }\n",
              "      </script>\n",
              "    </div>\n",
              "  </div>\n",
              "  "
            ]
          },
          "metadata": {},
          "execution_count": 23
        }
      ],
      "source": [
        "ordCats={1:'veryLow',2:'low',3:'medium',4:'good',5:'veryGood'}\n",
        "\n",
        "turnToOrdinal= lambda x:x.cat.rename_categories(ordCats)\n",
        "\n",
        "allFree.iloc[:,5:].apply(turnToOrdinal)"
      ]
    },
    {
      "cell_type": "code",
      "execution_count": 24,
      "id": "f916d049",
      "metadata": {
        "colab": {
          "base_uri": "https://localhost:8080/",
          "height": 462
        },
        "id": "f916d049",
        "outputId": "cc345b70-4041-437f-f378-a272503d6322"
      },
      "outputs": [
        {
          "output_type": "execute_result",
          "data": {
            "text/plain": [
              "               Country  FreedomintheWorld  IndexofEconomicFreedom  \\\n",
              "0          Afghanistan                  1                    <NA>   \n",
              "1              Albania                  3                       3   \n",
              "2              Algeria                  1                       1   \n",
              "3              Andorra                  5                    <NA>   \n",
              "4               Angola                  1                       2   \n",
              "5  Antigua and Barbuda                  5                    <NA>   \n",
              "6            Argentina                  5                       2   \n",
              "7              Armenia                  3                       3   \n",
              "8            Australia                  5                       4   \n",
              "9              Austria                  5                       4   \n",
              "\n",
              "   PressFreedomIndex  DemocracyIndex FreedomintheWorld_ord  \\\n",
              "0                  1               1               veryLow   \n",
              "1                  3               3                medium   \n",
              "2                  2               1               veryLow   \n",
              "3                  3            <NA>              veryGood   \n",
              "4                  3               1               veryLow   \n",
              "5                  3            <NA>              veryGood   \n",
              "6                  4               3              veryGood   \n",
              "7                  3               2                medium   \n",
              "8                  4               5              veryGood   \n",
              "9                  4               5              veryGood   \n",
              "\n",
              "  IndexofEconomicFreedom_ord PressFreedomIndex_ord DemocracyIndex_ord  \n",
              "0                        NaN               veryLow            veryLow  \n",
              "1                     medium                medium             medium  \n",
              "2                    veryLow                   low            veryLow  \n",
              "3                        NaN                medium                NaN  \n",
              "4                        low                medium            veryLow  \n",
              "5                        NaN                medium                NaN  \n",
              "6                        low                  good             medium  \n",
              "7                     medium                medium                low  \n",
              "8                       good                  good           veryGood  \n",
              "9                       good                  good           veryGood  "
            ],
            "text/html": [
              "\n",
              "  <div id=\"df-b53eefa5-0e57-4897-8230-9905752a0606\">\n",
              "    <div class=\"colab-df-container\">\n",
              "      <div>\n",
              "<style scoped>\n",
              "    .dataframe tbody tr th:only-of-type {\n",
              "        vertical-align: middle;\n",
              "    }\n",
              "\n",
              "    .dataframe tbody tr th {\n",
              "        vertical-align: top;\n",
              "    }\n",
              "\n",
              "    .dataframe thead th {\n",
              "        text-align: right;\n",
              "    }\n",
              "</style>\n",
              "<table border=\"1\" class=\"dataframe\">\n",
              "  <thead>\n",
              "    <tr style=\"text-align: right;\">\n",
              "      <th></th>\n",
              "      <th>Country</th>\n",
              "      <th>FreedomintheWorld</th>\n",
              "      <th>IndexofEconomicFreedom</th>\n",
              "      <th>PressFreedomIndex</th>\n",
              "      <th>DemocracyIndex</th>\n",
              "      <th>FreedomintheWorld_ord</th>\n",
              "      <th>IndexofEconomicFreedom_ord</th>\n",
              "      <th>PressFreedomIndex_ord</th>\n",
              "      <th>DemocracyIndex_ord</th>\n",
              "    </tr>\n",
              "  </thead>\n",
              "  <tbody>\n",
              "    <tr>\n",
              "      <th>0</th>\n",
              "      <td>Afghanistan</td>\n",
              "      <td>1</td>\n",
              "      <td>&lt;NA&gt;</td>\n",
              "      <td>1</td>\n",
              "      <td>1</td>\n",
              "      <td>veryLow</td>\n",
              "      <td>NaN</td>\n",
              "      <td>veryLow</td>\n",
              "      <td>veryLow</td>\n",
              "    </tr>\n",
              "    <tr>\n",
              "      <th>1</th>\n",
              "      <td>Albania</td>\n",
              "      <td>3</td>\n",
              "      <td>3</td>\n",
              "      <td>3</td>\n",
              "      <td>3</td>\n",
              "      <td>medium</td>\n",
              "      <td>medium</td>\n",
              "      <td>medium</td>\n",
              "      <td>medium</td>\n",
              "    </tr>\n",
              "    <tr>\n",
              "      <th>2</th>\n",
              "      <td>Algeria</td>\n",
              "      <td>1</td>\n",
              "      <td>1</td>\n",
              "      <td>2</td>\n",
              "      <td>1</td>\n",
              "      <td>veryLow</td>\n",
              "      <td>veryLow</td>\n",
              "      <td>low</td>\n",
              "      <td>veryLow</td>\n",
              "    </tr>\n",
              "    <tr>\n",
              "      <th>3</th>\n",
              "      <td>Andorra</td>\n",
              "      <td>5</td>\n",
              "      <td>&lt;NA&gt;</td>\n",
              "      <td>3</td>\n",
              "      <td>&lt;NA&gt;</td>\n",
              "      <td>veryGood</td>\n",
              "      <td>NaN</td>\n",
              "      <td>medium</td>\n",
              "      <td>NaN</td>\n",
              "    </tr>\n",
              "    <tr>\n",
              "      <th>4</th>\n",
              "      <td>Angola</td>\n",
              "      <td>1</td>\n",
              "      <td>2</td>\n",
              "      <td>3</td>\n",
              "      <td>1</td>\n",
              "      <td>veryLow</td>\n",
              "      <td>low</td>\n",
              "      <td>medium</td>\n",
              "      <td>veryLow</td>\n",
              "    </tr>\n",
              "    <tr>\n",
              "      <th>5</th>\n",
              "      <td>Antigua and Barbuda</td>\n",
              "      <td>5</td>\n",
              "      <td>&lt;NA&gt;</td>\n",
              "      <td>3</td>\n",
              "      <td>&lt;NA&gt;</td>\n",
              "      <td>veryGood</td>\n",
              "      <td>NaN</td>\n",
              "      <td>medium</td>\n",
              "      <td>NaN</td>\n",
              "    </tr>\n",
              "    <tr>\n",
              "      <th>6</th>\n",
              "      <td>Argentina</td>\n",
              "      <td>5</td>\n",
              "      <td>2</td>\n",
              "      <td>4</td>\n",
              "      <td>3</td>\n",
              "      <td>veryGood</td>\n",
              "      <td>low</td>\n",
              "      <td>good</td>\n",
              "      <td>medium</td>\n",
              "    </tr>\n",
              "    <tr>\n",
              "      <th>7</th>\n",
              "      <td>Armenia</td>\n",
              "      <td>3</td>\n",
              "      <td>3</td>\n",
              "      <td>3</td>\n",
              "      <td>2</td>\n",
              "      <td>medium</td>\n",
              "      <td>medium</td>\n",
              "      <td>medium</td>\n",
              "      <td>low</td>\n",
              "    </tr>\n",
              "    <tr>\n",
              "      <th>8</th>\n",
              "      <td>Australia</td>\n",
              "      <td>5</td>\n",
              "      <td>4</td>\n",
              "      <td>4</td>\n",
              "      <td>5</td>\n",
              "      <td>veryGood</td>\n",
              "      <td>good</td>\n",
              "      <td>good</td>\n",
              "      <td>veryGood</td>\n",
              "    </tr>\n",
              "    <tr>\n",
              "      <th>9</th>\n",
              "      <td>Austria</td>\n",
              "      <td>5</td>\n",
              "      <td>4</td>\n",
              "      <td>4</td>\n",
              "      <td>5</td>\n",
              "      <td>veryGood</td>\n",
              "      <td>good</td>\n",
              "      <td>good</td>\n",
              "      <td>veryGood</td>\n",
              "    </tr>\n",
              "  </tbody>\n",
              "</table>\n",
              "</div>\n",
              "      <button class=\"colab-df-convert\" onclick=\"convertToInteractive('df-b53eefa5-0e57-4897-8230-9905752a0606')\"\n",
              "              title=\"Convert this dataframe to an interactive table.\"\n",
              "              style=\"display:none;\">\n",
              "        \n",
              "  <svg xmlns=\"http://www.w3.org/2000/svg\" height=\"24px\"viewBox=\"0 0 24 24\"\n",
              "       width=\"24px\">\n",
              "    <path d=\"M0 0h24v24H0V0z\" fill=\"none\"/>\n",
              "    <path d=\"M18.56 5.44l.94 2.06.94-2.06 2.06-.94-2.06-.94-.94-2.06-.94 2.06-2.06.94zm-11 1L8.5 8.5l.94-2.06 2.06-.94-2.06-.94L8.5 2.5l-.94 2.06-2.06.94zm10 10l.94 2.06.94-2.06 2.06-.94-2.06-.94-.94-2.06-.94 2.06-2.06.94z\"/><path d=\"M17.41 7.96l-1.37-1.37c-.4-.4-.92-.59-1.43-.59-.52 0-1.04.2-1.43.59L10.3 9.45l-7.72 7.72c-.78.78-.78 2.05 0 2.83L4 21.41c.39.39.9.59 1.41.59.51 0 1.02-.2 1.41-.59l7.78-7.78 2.81-2.81c.8-.78.8-2.07 0-2.86zM5.41 20L4 18.59l7.72-7.72 1.47 1.35L5.41 20z\"/>\n",
              "  </svg>\n",
              "      </button>\n",
              "      \n",
              "  <style>\n",
              "    .colab-df-container {\n",
              "      display:flex;\n",
              "      flex-wrap:wrap;\n",
              "      gap: 12px;\n",
              "    }\n",
              "\n",
              "    .colab-df-convert {\n",
              "      background-color: #E8F0FE;\n",
              "      border: none;\n",
              "      border-radius: 50%;\n",
              "      cursor: pointer;\n",
              "      display: none;\n",
              "      fill: #1967D2;\n",
              "      height: 32px;\n",
              "      padding: 0 0 0 0;\n",
              "      width: 32px;\n",
              "    }\n",
              "\n",
              "    .colab-df-convert:hover {\n",
              "      background-color: #E2EBFA;\n",
              "      box-shadow: 0px 1px 2px rgba(60, 64, 67, 0.3), 0px 1px 3px 1px rgba(60, 64, 67, 0.15);\n",
              "      fill: #174EA6;\n",
              "    }\n",
              "\n",
              "    [theme=dark] .colab-df-convert {\n",
              "      background-color: #3B4455;\n",
              "      fill: #D2E3FC;\n",
              "    }\n",
              "\n",
              "    [theme=dark] .colab-df-convert:hover {\n",
              "      background-color: #434B5C;\n",
              "      box-shadow: 0px 1px 3px 1px rgba(0, 0, 0, 0.15);\n",
              "      filter: drop-shadow(0px 1px 2px rgba(0, 0, 0, 0.3));\n",
              "      fill: #FFFFFF;\n",
              "    }\n",
              "  </style>\n",
              "\n",
              "      <script>\n",
              "        const buttonEl =\n",
              "          document.querySelector('#df-b53eefa5-0e57-4897-8230-9905752a0606 button.colab-df-convert');\n",
              "        buttonEl.style.display =\n",
              "          google.colab.kernel.accessAllowed ? 'block' : 'none';\n",
              "\n",
              "        async function convertToInteractive(key) {\n",
              "          const element = document.querySelector('#df-b53eefa5-0e57-4897-8230-9905752a0606');\n",
              "          const dataTable =\n",
              "            await google.colab.kernel.invokeFunction('convertToInteractive',\n",
              "                                                     [key], {});\n",
              "          if (!dataTable) return;\n",
              "\n",
              "          const docLinkHtml = 'Like what you see? Visit the ' +\n",
              "            '<a target=\"_blank\" href=https://colab.research.google.com/notebooks/data_table.ipynb>data table notebook</a>'\n",
              "            + ' to learn more about interactive tables.';\n",
              "          element.innerHTML = '';\n",
              "          dataTable['output_type'] = 'display_data';\n",
              "          await google.colab.output.renderOutput(dataTable, element);\n",
              "          const docLink = document.createElement('div');\n",
              "          docLink.innerHTML = docLinkHtml;\n",
              "          element.appendChild(docLink);\n",
              "        }\n",
              "      </script>\n",
              "    </div>\n",
              "  </div>\n",
              "  "
            ]
          },
          "metadata": {},
          "execution_count": 24
        }
      ],
      "source": [
        "allFree[newNames]=allFree.iloc[:,5:].apply(turnToOrdinal)\n",
        "\n",
        "# see\n",
        "allFree.head(10)"
      ]
    },
    {
      "cell_type": "markdown",
      "id": "a42df45e",
      "metadata": {
        "id": "a42df45e"
      },
      "source": [
        "Let's keep this last result, but this let me show you the use of **pickle** format:"
      ]
    },
    {
      "cell_type": "code",
      "execution_count": 25,
      "id": "161406d7",
      "metadata": {
        "colab": {
          "base_uri": "https://localhost:8080/",
          "height": 397
        },
        "id": "161406d7",
        "outputId": "a4e3ae1e-7937-417f-af9f-b20a7859a368"
      },
      "outputs": [
        {
          "output_type": "error",
          "ename": "OSError",
          "evalue": "ignored",
          "traceback": [
            "\u001b[0;31m---------------------------------------------------------------------------\u001b[0m",
            "\u001b[0;31mOSError\u001b[0m                                   Traceback (most recent call last)",
            "\u001b[0;32m<ipython-input-25-8fd3f875ed72>\u001b[0m in \u001b[0;36m<cell line: 5>\u001b[0;34m()\u001b[0m\n\u001b[1;32m      3\u001b[0m \u001b[0;32mimport\u001b[0m \u001b[0mos\u001b[0m\u001b[0;34m\u001b[0m\u001b[0;34m\u001b[0m\u001b[0m\n\u001b[1;32m      4\u001b[0m \u001b[0;34m\u001b[0m\u001b[0m\n\u001b[0;32m----> 5\u001b[0;31m \u001b[0mallFree\u001b[0m\u001b[0;34m.\u001b[0m\u001b[0mto_csv\u001b[0m\u001b[0;34m(\u001b[0m\u001b[0mos\u001b[0m\u001b[0;34m.\u001b[0m\u001b[0mpath\u001b[0m\u001b[0;34m.\u001b[0m\u001b[0mjoin\u001b[0m\u001b[0;34m(\u001b[0m\u001b[0;34m\"data\"\u001b[0m\u001b[0;34m,\u001b[0m\u001b[0;34m\"allFree.csv\"\u001b[0m\u001b[0;34m)\u001b[0m\u001b[0;34m,\u001b[0m\u001b[0mindex\u001b[0m\u001b[0;34m=\u001b[0m\u001b[0;32mFalse\u001b[0m \u001b[0;34m)\u001b[0m\u001b[0;34m\u001b[0m\u001b[0;34m\u001b[0m\u001b[0m\n\u001b[0m\u001b[1;32m      6\u001b[0m \u001b[0mallFree\u001b[0m\u001b[0;34m.\u001b[0m\u001b[0mto_pickle\u001b[0m\u001b[0;34m(\u001b[0m\u001b[0mos\u001b[0m\u001b[0;34m.\u001b[0m\u001b[0mpath\u001b[0m\u001b[0;34m.\u001b[0m\u001b[0mjoin\u001b[0m\u001b[0;34m(\u001b[0m\u001b[0;34m\"data\"\u001b[0m\u001b[0;34m,\u001b[0m\u001b[0;34m\"allFree.pkl\"\u001b[0m\u001b[0;34m)\u001b[0m \u001b[0;34m)\u001b[0m\u001b[0;34m\u001b[0m\u001b[0;34m\u001b[0m\u001b[0m\n",
            "\u001b[0;32m/usr/local/lib/python3.10/dist-packages/pandas/util/_decorators.py\u001b[0m in \u001b[0;36mwrapper\u001b[0;34m(*args, **kwargs)\u001b[0m\n\u001b[1;32m    209\u001b[0m                 \u001b[0;32melse\u001b[0m\u001b[0;34m:\u001b[0m\u001b[0;34m\u001b[0m\u001b[0;34m\u001b[0m\u001b[0m\n\u001b[1;32m    210\u001b[0m                     \u001b[0mkwargs\u001b[0m\u001b[0;34m[\u001b[0m\u001b[0mnew_arg_name\u001b[0m\u001b[0;34m]\u001b[0m \u001b[0;34m=\u001b[0m \u001b[0mnew_arg_value\u001b[0m\u001b[0;34m\u001b[0m\u001b[0;34m\u001b[0m\u001b[0m\n\u001b[0;32m--> 211\u001b[0;31m             \u001b[0;32mreturn\u001b[0m \u001b[0mfunc\u001b[0m\u001b[0;34m(\u001b[0m\u001b[0;34m*\u001b[0m\u001b[0margs\u001b[0m\u001b[0;34m,\u001b[0m \u001b[0;34m**\u001b[0m\u001b[0mkwargs\u001b[0m\u001b[0;34m)\u001b[0m\u001b[0;34m\u001b[0m\u001b[0;34m\u001b[0m\u001b[0m\n\u001b[0m\u001b[1;32m    212\u001b[0m \u001b[0;34m\u001b[0m\u001b[0m\n\u001b[1;32m    213\u001b[0m         \u001b[0;32mreturn\u001b[0m \u001b[0mcast\u001b[0m\u001b[0;34m(\u001b[0m\u001b[0mF\u001b[0m\u001b[0;34m,\u001b[0m \u001b[0mwrapper\u001b[0m\u001b[0;34m)\u001b[0m\u001b[0;34m\u001b[0m\u001b[0;34m\u001b[0m\u001b[0m\n",
            "\u001b[0;32m/usr/local/lib/python3.10/dist-packages/pandas/core/generic.py\u001b[0m in \u001b[0;36mto_csv\u001b[0;34m(self, path_or_buf, sep, na_rep, float_format, columns, header, index, index_label, mode, encoding, compression, quoting, quotechar, lineterminator, chunksize, date_format, doublequote, escapechar, decimal, errors, storage_options)\u001b[0m\n\u001b[1;32m   3718\u001b[0m         )\n\u001b[1;32m   3719\u001b[0m \u001b[0;34m\u001b[0m\u001b[0m\n\u001b[0;32m-> 3720\u001b[0;31m         return DataFrameRenderer(formatter).to_csv(\n\u001b[0m\u001b[1;32m   3721\u001b[0m             \u001b[0mpath_or_buf\u001b[0m\u001b[0;34m,\u001b[0m\u001b[0;34m\u001b[0m\u001b[0;34m\u001b[0m\u001b[0m\n\u001b[1;32m   3722\u001b[0m             \u001b[0mlineterminator\u001b[0m\u001b[0;34m=\u001b[0m\u001b[0mlineterminator\u001b[0m\u001b[0;34m,\u001b[0m\u001b[0;34m\u001b[0m\u001b[0;34m\u001b[0m\u001b[0m\n",
            "\u001b[0;32m/usr/local/lib/python3.10/dist-packages/pandas/util/_decorators.py\u001b[0m in \u001b[0;36mwrapper\u001b[0;34m(*args, **kwargs)\u001b[0m\n\u001b[1;32m    209\u001b[0m                 \u001b[0;32melse\u001b[0m\u001b[0;34m:\u001b[0m\u001b[0;34m\u001b[0m\u001b[0;34m\u001b[0m\u001b[0m\n\u001b[1;32m    210\u001b[0m                     \u001b[0mkwargs\u001b[0m\u001b[0;34m[\u001b[0m\u001b[0mnew_arg_name\u001b[0m\u001b[0;34m]\u001b[0m \u001b[0;34m=\u001b[0m \u001b[0mnew_arg_value\u001b[0m\u001b[0;34m\u001b[0m\u001b[0;34m\u001b[0m\u001b[0m\n\u001b[0;32m--> 211\u001b[0;31m             \u001b[0;32mreturn\u001b[0m \u001b[0mfunc\u001b[0m\u001b[0;34m(\u001b[0m\u001b[0;34m*\u001b[0m\u001b[0margs\u001b[0m\u001b[0;34m,\u001b[0m \u001b[0;34m**\u001b[0m\u001b[0mkwargs\u001b[0m\u001b[0;34m)\u001b[0m\u001b[0;34m\u001b[0m\u001b[0;34m\u001b[0m\u001b[0m\n\u001b[0m\u001b[1;32m    212\u001b[0m \u001b[0;34m\u001b[0m\u001b[0m\n\u001b[1;32m    213\u001b[0m         \u001b[0;32mreturn\u001b[0m \u001b[0mcast\u001b[0m\u001b[0;34m(\u001b[0m\u001b[0mF\u001b[0m\u001b[0;34m,\u001b[0m \u001b[0mwrapper\u001b[0m\u001b[0;34m)\u001b[0m\u001b[0;34m\u001b[0m\u001b[0;34m\u001b[0m\u001b[0m\n",
            "\u001b[0;32m/usr/local/lib/python3.10/dist-packages/pandas/io/formats/format.py\u001b[0m in \u001b[0;36mto_csv\u001b[0;34m(self, path_or_buf, encoding, sep, columns, index_label, mode, compression, quoting, quotechar, lineterminator, chunksize, date_format, doublequote, escapechar, errors, storage_options)\u001b[0m\n\u001b[1;32m   1187\u001b[0m             \u001b[0mformatter\u001b[0m\u001b[0;34m=\u001b[0m\u001b[0mself\u001b[0m\u001b[0;34m.\u001b[0m\u001b[0mfmt\u001b[0m\u001b[0;34m,\u001b[0m\u001b[0;34m\u001b[0m\u001b[0;34m\u001b[0m\u001b[0m\n\u001b[1;32m   1188\u001b[0m         )\n\u001b[0;32m-> 1189\u001b[0;31m         \u001b[0mcsv_formatter\u001b[0m\u001b[0;34m.\u001b[0m\u001b[0msave\u001b[0m\u001b[0;34m(\u001b[0m\u001b[0;34m)\u001b[0m\u001b[0;34m\u001b[0m\u001b[0;34m\u001b[0m\u001b[0m\n\u001b[0m\u001b[1;32m   1190\u001b[0m \u001b[0;34m\u001b[0m\u001b[0m\n\u001b[1;32m   1191\u001b[0m         \u001b[0;32mif\u001b[0m \u001b[0mcreated_buffer\u001b[0m\u001b[0;34m:\u001b[0m\u001b[0;34m\u001b[0m\u001b[0;34m\u001b[0m\u001b[0m\n",
            "\u001b[0;32m/usr/local/lib/python3.10/dist-packages/pandas/io/formats/csvs.py\u001b[0m in \u001b[0;36msave\u001b[0;34m(self)\u001b[0m\n\u001b[1;32m    239\u001b[0m         \"\"\"\n\u001b[1;32m    240\u001b[0m         \u001b[0;31m# apply compression and byte/text conversion\u001b[0m\u001b[0;34m\u001b[0m\u001b[0;34m\u001b[0m\u001b[0m\n\u001b[0;32m--> 241\u001b[0;31m         with get_handle(\n\u001b[0m\u001b[1;32m    242\u001b[0m             \u001b[0mself\u001b[0m\u001b[0;34m.\u001b[0m\u001b[0mfilepath_or_buffer\u001b[0m\u001b[0;34m,\u001b[0m\u001b[0;34m\u001b[0m\u001b[0;34m\u001b[0m\u001b[0m\n\u001b[1;32m    243\u001b[0m             \u001b[0mself\u001b[0m\u001b[0;34m.\u001b[0m\u001b[0mmode\u001b[0m\u001b[0;34m,\u001b[0m\u001b[0;34m\u001b[0m\u001b[0;34m\u001b[0m\u001b[0m\n",
            "\u001b[0;32m/usr/local/lib/python3.10/dist-packages/pandas/io/common.py\u001b[0m in \u001b[0;36mget_handle\u001b[0;34m(path_or_buf, mode, encoding, compression, memory_map, is_text, errors, storage_options)\u001b[0m\n\u001b[1;32m    732\u001b[0m     \u001b[0;31m# Only for write methods\u001b[0m\u001b[0;34m\u001b[0m\u001b[0;34m\u001b[0m\u001b[0m\n\u001b[1;32m    733\u001b[0m     \u001b[0;32mif\u001b[0m \u001b[0;34m\"r\"\u001b[0m \u001b[0;32mnot\u001b[0m \u001b[0;32min\u001b[0m \u001b[0mmode\u001b[0m \u001b[0;32mand\u001b[0m \u001b[0mis_path\u001b[0m\u001b[0;34m:\u001b[0m\u001b[0;34m\u001b[0m\u001b[0;34m\u001b[0m\u001b[0m\n\u001b[0;32m--> 734\u001b[0;31m         \u001b[0mcheck_parent_directory\u001b[0m\u001b[0;34m(\u001b[0m\u001b[0mstr\u001b[0m\u001b[0;34m(\u001b[0m\u001b[0mhandle\u001b[0m\u001b[0;34m)\u001b[0m\u001b[0;34m)\u001b[0m\u001b[0;34m\u001b[0m\u001b[0;34m\u001b[0m\u001b[0m\n\u001b[0m\u001b[1;32m    735\u001b[0m \u001b[0;34m\u001b[0m\u001b[0m\n\u001b[1;32m    736\u001b[0m     \u001b[0;32mif\u001b[0m \u001b[0mcompression\u001b[0m\u001b[0;34m:\u001b[0m\u001b[0;34m\u001b[0m\u001b[0;34m\u001b[0m\u001b[0m\n",
            "\u001b[0;32m/usr/local/lib/python3.10/dist-packages/pandas/io/common.py\u001b[0m in \u001b[0;36mcheck_parent_directory\u001b[0;34m(path)\u001b[0m\n\u001b[1;32m    595\u001b[0m     \u001b[0mparent\u001b[0m \u001b[0;34m=\u001b[0m \u001b[0mPath\u001b[0m\u001b[0;34m(\u001b[0m\u001b[0mpath\u001b[0m\u001b[0;34m)\u001b[0m\u001b[0;34m.\u001b[0m\u001b[0mparent\u001b[0m\u001b[0;34m\u001b[0m\u001b[0;34m\u001b[0m\u001b[0m\n\u001b[1;32m    596\u001b[0m     \u001b[0;32mif\u001b[0m \u001b[0;32mnot\u001b[0m \u001b[0mparent\u001b[0m\u001b[0;34m.\u001b[0m\u001b[0mis_dir\u001b[0m\u001b[0;34m(\u001b[0m\u001b[0;34m)\u001b[0m\u001b[0;34m:\u001b[0m\u001b[0;34m\u001b[0m\u001b[0;34m\u001b[0m\u001b[0m\n\u001b[0;32m--> 597\u001b[0;31m         \u001b[0;32mraise\u001b[0m \u001b[0mOSError\u001b[0m\u001b[0;34m(\u001b[0m\u001b[0;34mrf\"Cannot save file into a non-existent directory: '{parent}'\"\u001b[0m\u001b[0;34m)\u001b[0m\u001b[0;34m\u001b[0m\u001b[0;34m\u001b[0m\u001b[0m\n\u001b[0m\u001b[1;32m    598\u001b[0m \u001b[0;34m\u001b[0m\u001b[0m\n\u001b[1;32m    599\u001b[0m \u001b[0;34m\u001b[0m\u001b[0m\n",
            "\u001b[0;31mOSError\u001b[0m: Cannot save file into a non-existent directory: 'data'"
          ]
        }
      ],
      "source": [
        "#saving\n",
        "\n",
        "import os \n",
        "\n",
        "allFree.to_csv(os.path.join(\"data\",\"allFree.csv\"),index=False )\n",
        "allFree.to_pickle(os.path.join(\"data\",\"allFree.pkl\") )"
      ]
    },
    {
      "cell_type": "code",
      "execution_count": 26,
      "id": "43d07085",
      "metadata": {
        "colab": {
          "base_uri": "https://localhost:8080/",
          "height": 397
        },
        "id": "43d07085",
        "outputId": "2d1e7fc9-f3f6-44fc-b123-7b872f0ee913"
      },
      "outputs": [
        {
          "output_type": "error",
          "ename": "FileNotFoundError",
          "evalue": "ignored",
          "traceback": [
            "\u001b[0;31m---------------------------------------------------------------------------\u001b[0m",
            "\u001b[0;31mFileNotFoundError\u001b[0m                         Traceback (most recent call last)",
            "\u001b[0;32m<ipython-input-26-1121f01aaf9b>\u001b[0m in \u001b[0;36m<cell line: 3>\u001b[0;34m()\u001b[0m\n\u001b[1;32m      1\u001b[0m \u001b[0;31m#reading\u001b[0m\u001b[0;34m\u001b[0m\u001b[0;34m\u001b[0m\u001b[0m\n\u001b[1;32m      2\u001b[0m \u001b[0;34m\u001b[0m\u001b[0m\n\u001b[0;32m----> 3\u001b[0;31m \u001b[0mdfPickle\u001b[0m\u001b[0;34m=\u001b[0m\u001b[0mpd\u001b[0m\u001b[0;34m.\u001b[0m\u001b[0mread_pickle\u001b[0m\u001b[0;34m(\u001b[0m\u001b[0mos\u001b[0m\u001b[0;34m.\u001b[0m\u001b[0mpath\u001b[0m\u001b[0;34m.\u001b[0m\u001b[0mjoin\u001b[0m\u001b[0;34m(\u001b[0m\u001b[0;34m\"data\"\u001b[0m\u001b[0;34m,\u001b[0m\u001b[0;34m\"allFree.pkl\"\u001b[0m\u001b[0;34m)\u001b[0m \u001b[0;34m)\u001b[0m\u001b[0;34m\u001b[0m\u001b[0;34m\u001b[0m\u001b[0m\n\u001b[0m\u001b[1;32m      4\u001b[0m \u001b[0mdfCSV\u001b[0m\u001b[0;34m=\u001b[0m\u001b[0mpd\u001b[0m\u001b[0;34m.\u001b[0m\u001b[0mread_csv\u001b[0m\u001b[0;34m(\u001b[0m\u001b[0mos\u001b[0m\u001b[0;34m.\u001b[0m\u001b[0mpath\u001b[0m\u001b[0;34m.\u001b[0m\u001b[0mjoin\u001b[0m\u001b[0;34m(\u001b[0m\u001b[0;34m\"data\"\u001b[0m\u001b[0;34m,\u001b[0m\u001b[0;34m\"allFree.csv\"\u001b[0m\u001b[0;34m)\u001b[0m \u001b[0;34m)\u001b[0m\u001b[0;34m\u001b[0m\u001b[0;34m\u001b[0m\u001b[0m\n",
            "\u001b[0;32m/usr/local/lib/python3.10/dist-packages/pandas/io/pickle.py\u001b[0m in \u001b[0;36mread_pickle\u001b[0;34m(filepath_or_buffer, compression, storage_options)\u001b[0m\n\u001b[1;32m    188\u001b[0m     \"\"\"\n\u001b[1;32m    189\u001b[0m     \u001b[0mexcs_to_catch\u001b[0m \u001b[0;34m=\u001b[0m \u001b[0;34m(\u001b[0m\u001b[0mAttributeError\u001b[0m\u001b[0;34m,\u001b[0m \u001b[0mImportError\u001b[0m\u001b[0;34m,\u001b[0m \u001b[0mModuleNotFoundError\u001b[0m\u001b[0;34m,\u001b[0m \u001b[0mTypeError\u001b[0m\u001b[0;34m)\u001b[0m\u001b[0;34m\u001b[0m\u001b[0;34m\u001b[0m\u001b[0m\n\u001b[0;32m--> 190\u001b[0;31m     with get_handle(\n\u001b[0m\u001b[1;32m    191\u001b[0m         \u001b[0mfilepath_or_buffer\u001b[0m\u001b[0;34m,\u001b[0m\u001b[0;34m\u001b[0m\u001b[0;34m\u001b[0m\u001b[0m\n\u001b[1;32m    192\u001b[0m         \u001b[0;34m\"rb\"\u001b[0m\u001b[0;34m,\u001b[0m\u001b[0;34m\u001b[0m\u001b[0;34m\u001b[0m\u001b[0m\n",
            "\u001b[0;32m/usr/local/lib/python3.10/dist-packages/pandas/io/common.py\u001b[0m in \u001b[0;36mget_handle\u001b[0;34m(path_or_buf, mode, encoding, compression, memory_map, is_text, errors, storage_options)\u001b[0m\n\u001b[1;32m    863\u001b[0m         \u001b[0;32melse\u001b[0m\u001b[0;34m:\u001b[0m\u001b[0;34m\u001b[0m\u001b[0;34m\u001b[0m\u001b[0m\n\u001b[1;32m    864\u001b[0m             \u001b[0;31m# Binary mode\u001b[0m\u001b[0;34m\u001b[0m\u001b[0;34m\u001b[0m\u001b[0m\n\u001b[0;32m--> 865\u001b[0;31m             \u001b[0mhandle\u001b[0m \u001b[0;34m=\u001b[0m \u001b[0mopen\u001b[0m\u001b[0;34m(\u001b[0m\u001b[0mhandle\u001b[0m\u001b[0;34m,\u001b[0m \u001b[0mioargs\u001b[0m\u001b[0;34m.\u001b[0m\u001b[0mmode\u001b[0m\u001b[0;34m)\u001b[0m\u001b[0;34m\u001b[0m\u001b[0;34m\u001b[0m\u001b[0m\n\u001b[0m\u001b[1;32m    866\u001b[0m         \u001b[0mhandles\u001b[0m\u001b[0;34m.\u001b[0m\u001b[0mappend\u001b[0m\u001b[0;34m(\u001b[0m\u001b[0mhandle\u001b[0m\u001b[0;34m)\u001b[0m\u001b[0;34m\u001b[0m\u001b[0;34m\u001b[0m\u001b[0m\n\u001b[1;32m    867\u001b[0m \u001b[0;34m\u001b[0m\u001b[0m\n",
            "\u001b[0;31mFileNotFoundError\u001b[0m: [Errno 2] No such file or directory: 'data/allFree.pkl'"
          ]
        }
      ],
      "source": [
        "#reading\n",
        "\n",
        "dfPickle=pd.read_pickle(os.path.join(\"data\",\"allFree.pkl\") )  \n",
        "dfCSV=pd.read_csv(os.path.join(\"data\",\"allFree.csv\") )  "
      ]
    },
    {
      "cell_type": "markdown",
      "id": "cce1b3a2",
      "metadata": {
        "id": "cce1b3a2"
      },
      "source": [
        "Now, notice the difference when you have categorical data:"
      ]
    },
    {
      "cell_type": "code",
      "execution_count": 27,
      "id": "6cefa4b8",
      "metadata": {
        "colab": {
          "base_uri": "https://localhost:8080/",
          "height": 165
        },
        "id": "6cefa4b8",
        "outputId": "3d80552d-395e-40df-a347-98c6fdb94775"
      },
      "outputs": [
        {
          "output_type": "error",
          "ename": "NameError",
          "evalue": "ignored",
          "traceback": [
            "\u001b[0;31m---------------------------------------------------------------------------\u001b[0m",
            "\u001b[0;31mNameError\u001b[0m                                 Traceback (most recent call last)",
            "\u001b[0;32m<ipython-input-27-75a13264a861>\u001b[0m in \u001b[0;36m<cell line: 1>\u001b[0;34m()\u001b[0m\n\u001b[0;32m----> 1\u001b[0;31m \u001b[0mdfPickle\u001b[0m\u001b[0;34m.\u001b[0m\u001b[0minfo\u001b[0m\u001b[0;34m(\u001b[0m\u001b[0;34m)\u001b[0m\u001b[0;34m\u001b[0m\u001b[0;34m\u001b[0m\u001b[0m\n\u001b[0m",
            "\u001b[0;31mNameError\u001b[0m: name 'dfPickle' is not defined"
          ]
        }
      ],
      "source": [
        "dfPickle.info()"
      ]
    },
    {
      "cell_type": "code",
      "execution_count": 28,
      "id": "1d27a302",
      "metadata": {
        "colab": {
          "base_uri": "https://localhost:8080/",
          "height": 165
        },
        "id": "1d27a302",
        "outputId": "9d99ab32-4e16-4aae-8b7c-3b5523f1dca7"
      },
      "outputs": [
        {
          "output_type": "error",
          "ename": "NameError",
          "evalue": "ignored",
          "traceback": [
            "\u001b[0;31m---------------------------------------------------------------------------\u001b[0m",
            "\u001b[0;31mNameError\u001b[0m                                 Traceback (most recent call last)",
            "\u001b[0;32m<ipython-input-28-40b2dd1febaf>\u001b[0m in \u001b[0;36m<cell line: 1>\u001b[0;34m()\u001b[0m\n\u001b[0;32m----> 1\u001b[0;31m \u001b[0mdfCSV\u001b[0m\u001b[0;34m.\u001b[0m\u001b[0minfo\u001b[0m\u001b[0;34m(\u001b[0m\u001b[0;34m)\u001b[0m\u001b[0;34m\u001b[0m\u001b[0;34m\u001b[0m\u001b[0m\n\u001b[0m",
            "\u001b[0;31mNameError\u001b[0m: name 'dfCSV' is not defined"
          ]
        }
      ],
      "source": [
        "dfCSV.info()"
      ]
    },
    {
      "cell_type": "code",
      "execution_count": 29,
      "id": "3def84ae",
      "metadata": {
        "colab": {
          "base_uri": "https://localhost:8080/",
          "height": 183
        },
        "id": "3def84ae",
        "outputId": "e38b5576-56c7-46de-9fef-430292f5f083"
      },
      "outputs": [
        {
          "output_type": "error",
          "ename": "NameError",
          "evalue": "ignored",
          "traceback": [
            "\u001b[0;31m---------------------------------------------------------------------------\u001b[0m",
            "\u001b[0;31mNameError\u001b[0m                                 Traceback (most recent call last)",
            "\u001b[0;32m<ipython-input-29-632e1262cd67>\u001b[0m in \u001b[0;36m<cell line: 2>\u001b[0;34m()\u001b[0m\n\u001b[1;32m      1\u001b[0m \u001b[0;31m# the file kept the data type\u001b[0m\u001b[0;34m\u001b[0m\u001b[0;34m\u001b[0m\u001b[0m\n\u001b[0;32m----> 2\u001b[0;31m \u001b[0mdfPickle\u001b[0m\u001b[0;34m.\u001b[0m\u001b[0mDemocracyIndex_ord\u001b[0m\u001b[0;34m\u001b[0m\u001b[0;34m\u001b[0m\u001b[0m\n\u001b[0m",
            "\u001b[0;31mNameError\u001b[0m: name 'dfPickle' is not defined"
          ]
        }
      ],
      "source": [
        "# the file kept the data type\n",
        "dfPickle.DemocracyIndex_ord"
      ]
    },
    {
      "cell_type": "code",
      "execution_count": 30,
      "id": "182bd92b",
      "metadata": {
        "colab": {
          "base_uri": "https://localhost:8080/",
          "height": 183
        },
        "id": "182bd92b",
        "outputId": "c5144851-dba9-4e60-ac73-386a495f621b"
      },
      "outputs": [
        {
          "output_type": "error",
          "ename": "NameError",
          "evalue": "ignored",
          "traceback": [
            "\u001b[0;31m---------------------------------------------------------------------------\u001b[0m",
            "\u001b[0;31mNameError\u001b[0m                                 Traceback (most recent call last)",
            "\u001b[0;32m<ipython-input-30-f100d14aa756>\u001b[0m in \u001b[0;36m<cell line: 2>\u001b[0;34m()\u001b[0m\n\u001b[1;32m      1\u001b[0m \u001b[0;31m# the file did not keep the data type\u001b[0m\u001b[0;34m\u001b[0m\u001b[0;34m\u001b[0m\u001b[0m\n\u001b[0;32m----> 2\u001b[0;31m \u001b[0mdfCSV\u001b[0m\u001b[0;34m.\u001b[0m\u001b[0mDemocracyIndex_ord\u001b[0m\u001b[0;34m\u001b[0m\u001b[0;34m\u001b[0m\u001b[0m\n\u001b[0m",
            "\u001b[0;31mNameError\u001b[0m: name 'dfCSV' is not defined"
          ]
        }
      ],
      "source": [
        "# the file did not keep the data type\n",
        "dfCSV.DemocracyIndex_ord"
      ]
    }
  ],
  "metadata": {
    "kernelspec": {
      "display_name": "Python 3 (ipykernel)",
      "language": "python",
      "name": "python3"
    },
    "language_info": {
      "codemirror_mode": {
        "name": "ipython",
        "version": 3
      },
      "file_extension": ".py",
      "mimetype": "text/x-python",
      "name": "python",
      "nbconvert_exporter": "python",
      "pygments_lexer": "ipython3",
      "version": "3.11.0"
    },
    "colab": {
      "provenance": [],
      "include_colab_link": true
    }
  },
  "nbformat": 4,
  "nbformat_minor": 5
}